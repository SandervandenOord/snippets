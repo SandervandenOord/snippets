{
 "cells": [
  {
   "cell_type": "markdown",
   "metadata": {},
   "source": [
    "### Base script that shows how to use Hyperopt to search for optimal parameters for a model\n",
    "### Hyperopt documentation: http://hyperopt.github.io/hyperopt/"
   ]
  },
  {
   "cell_type": "code",
   "execution_count": 6,
   "metadata": {},
   "outputs": [],
   "source": [
    "from hyperopt import fmin, tpe, hp, Trials, STATUS_OK\n",
    "\n",
    "from multiprocessing import cpu_count"
   ]
  },
  {
   "cell_type": "code",
   "execution_count": 7,
   "metadata": {},
   "outputs": [],
   "source": [
    "allowed_cpus = cpu_count() - 2"
   ]
  },
  {
   "cell_type": "code",
   "execution_count": 9,
   "metadata": {},
   "outputs": [],
   "source": [
    "def cv_splitter(df, nr_of_splits=3):\n",
    "    \n",
    "    splits = []\n",
    "    \n",
    "    train_start = df.index.min().to_pydatetime()\n",
    "    for nr in range(nr_of_splits):\n",
    "        train_end = train_start + pd.DateOffset(months=6 + nr * 2)\n",
    "        valid_start = train_end\n",
    "        valid_end = valid_start + pd.DateOffset(months=2)\n",
    "        train_index = np.arange(df.index.get_loc(train_end, method='nearest'))\n",
    "        validation_index = np.arange(df.index.get_loc(valid_start, method='nearest'), df.index.get_loc(valid_end, method='nearest'))\n",
    "#         train_index = pd.date_range(train_start, train_end, freq='min')\n",
    "#         validation_index = pd.date_range(valid_start, valid_end, freq='min')\n",
    "        \n",
    "        splits.append((train_index, validation_index))\n",
    "\n",
    "    return splits"
   ]
  },
  {
   "cell_type": "markdown",
   "metadata": {},
   "source": [
    "### Define the objective function that hyperopt uses to find the optimal parameters"
   ]
  },
  {
   "cell_type": "code",
   "execution_count": 1,
   "metadata": {},
   "outputs": [],
   "source": [
    "def get_pipeline(params):\n",
    "    standard_scaler_float32 = StandardScaler_Float32() # don't use this scaler, use the normal float64 scaler!!\n",
    "    elastic_net = ElasticNet(tol=0.01, **params)  # tol=0.01 to keep model fitting fast\n",
    "    pipeline = make_pipeline(standard_scaler_float32, elastic_net)\n",
    "    \n",
    "    return pipeline\n",
    "\n",
    "def objective(params):\n",
    "    print(params)\n",
    "    params = {'alpha': params['alpha'], \n",
    "              'l1_ratio': params['l1_ratio']}\n",
    "    \n",
    "    pipeline = get_pipeline(params)\n",
    "    \n",
    "    # and then conduct the cross validation with the same folds as before\n",
    "    \n",
    "    score = -cross_val_score(pipeline, X_train, y_train, cv=splits, scoring='neg_mean_squared_error', n_jobs=allowed_cpus)\n",
    "\n",
    "    validation_rmse = np.sqrt(score)\n",
    "    mean_validation_rmse =  validation_rmse.mean()\n",
    "    print(mean_validation_rmse, validation_rmse, '\\n')\n",
    "    print('\\n\\n')\n",
    "\n",
    "    return {'loss': mean_validation_rmse, 'status': STATUS_OK}"
   ]
  },
  {
   "cell_type": "markdown",
   "metadata": {},
   "source": [
    "### Define the space that hyperopt should search. These are priors.\n",
    "### I use a loguniform distribution for alpha, because I want lower values to have a larger chance to be chosen in the spcae"
   ]
  },
  {
   "cell_type": "code",
   "execution_count": 4,
   "metadata": {},
   "outputs": [],
   "source": [
    "space = {\n",
    "    'alpha': hp.loguniform('alpha', low=-4.6, high=2.35),\n",
    "    'l1_ratio' : hp.uniform('l1_ratio', low=0.02, high=1.0),\n",
    "}"
   ]
  },
  {
   "cell_type": "markdown",
   "metadata": {},
   "source": [
    "### Start finding the optimal parameters.\n",
    "- Results are written to Trials() object\n",
    "- max_evals defines the number of combinations that should be tried"
   ]
  },
  {
   "cell_type": "code",
   "execution_count": null,
   "metadata": {},
   "outputs": [],
   "source": [
    "# define cv splits\n",
    "splits = cv_splitter(X_train)\n",
    "\n",
    "# results from hyperopt are written to trials\n",
    "trials = Trials()\n",
    "\n",
    "# start searching the space for the best parameters given the score returned by the objective function\n",
    "best = fmin(\n",
    "    fn=objective,  # function to optimize\n",
    "    space=space,\n",
    "    algo=tpe.suggest,  # optimization algorithm, hyperopt will select its parameters automatically\n",
    "    max_evals=30,  # maximum number of iterations\n",
    "    trials=trials,  # logging\n",
    "    verbose=0,\n",
    ")"
   ]
  },
  {
   "cell_type": "markdown",
   "metadata": {},
   "source": [
    "### Make a nice dataframe from the hyperopt trials to be able to check results"
   ]
  },
  {
   "cell_type": "code",
   "execution_count": null,
   "metadata": {},
   "outputs": [],
   "source": [
    "trial_results = pd.DataFrame({**trials.vals, **{'score': trials.losses()}})\n",
    "\n",
    "trial_timings = {}\n",
    "for trial in trials.trials:\n",
    "    trial_timings[trial['tid']] = [trial['refresh_time'] - trial['book_time']]\n",
    "\n",
    "fitting_times = pd.DataFrame.from_dict(trial_timings, orient='index', columns=['fitting_time'])\n",
    "\n",
    "trial_results = trial_results.join(fitting_times).sort_values(by='score')"
   ]
  },
  {
   "cell_type": "markdown",
   "metadata": {},
   "source": [
    "### Plot trial results, works for 2 parameters of ElasticNet"
   ]
  },
  {
   "cell_type": "code",
   "execution_count": null,
   "metadata": {},
   "outputs": [],
   "source": [
    "# plot trial results, works for 2 parameters of Elasticnet\n",
    "sns.set(style='white', font_scale=1.5)\n",
    "\n",
    "ax = trial_results.plot(\n",
    "    x='alpha', \n",
    "    y='l1_ratio', \n",
    "    c='score', \n",
    "    cmap=cm.coolwarm_r, \n",
    "    kind='scatter', \n",
    "    logx=True, \n",
    "    figsize=(10, 7),\n",
    ")\n",
    "\n",
    "for i in range(trial_results.shape[0]):\n",
    "    ax.annotate(\n",
    "        xy=(trial_results['alpha'][i], trial_results['l1_ratio'][i]), \n",
    "        s=round(trial_results['score'][i], 2),\n",
    "        alpha=0.4,\n",
    "        fontsize=12,\n",
    "    )\n",
    "\n",
    "ax.set(title=f\"{model_choices['pred_target']} Hyperopt grid search: test_rmse\");"
   ]
  }
 ],
 "metadata": {
  "kernelspec": {
   "display_name": "valves36",
   "language": "python",
   "name": "valves36"
  },
  "language_info": {
   "codemirror_mode": {
    "name": "ipython",
    "version": 3
   },
   "file_extension": ".py",
   "mimetype": "text/x-python",
   "name": "python",
   "nbconvert_exporter": "python",
   "pygments_lexer": "ipython3",
   "version": "3.6.8"
  }
 },
 "nbformat": 4,
 "nbformat_minor": 4
}
